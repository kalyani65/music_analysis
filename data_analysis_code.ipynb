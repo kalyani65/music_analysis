{
 "cells": [
  {
   "cell_type": "code",
   "execution_count": null,
   "id": "062a3909",
   "metadata": {},
   "outputs": [],
   "source": [
    "import pandas as pd\n",
    "import random\n",
    "\n",
    "import numpy as np \n",
    "import scipy.stats as stats\n",
    "import matplotlib.pyplot as plt\n"
   ]
  },
  {
   "cell_type": "code",
   "execution_count": 127,
   "id": "ea5384dc",
   "metadata": {},
   "outputs": [
    {
     "name": "stdout",
     "output_type": "stream",
     "text": [
      "{}\n"
     ]
    }
   ],
   "source": [
    "filename_list=['control_nm_data.csv','wc_data.csv','pop_data.csv','ic_data.csv','rock_data.csv','jazz_data.csv']\n",
    "columns = [f\"genre\", f\"combined_score\", f\"reading\", f\"working_memory\"]\n",
    "# all data is stored in this dictionary\n",
    "mydata = {}"
   ]
  },
  {
   "cell_type": "code",
   "execution_count": 128,
   "id": "db118a87",
   "metadata": {},
   "outputs": [],
   "source": [
    "def readdata(filename, mydata):\n",
    "    filename_prefix = filename.split('_data')[0]\n",
    "    # we dont want to read header information and the first row is all text details we dont want\n",
    "    file_df = pd.read_csv(filename, header=None, skiprows=1)\n",
    "    file_df.columns = columns           \n",
    "    relevant_df = file_df.iloc[:, 1:]\n",
    "    # Adding to a dictionary as mydata[key] = value\n",
    "    mydata[filename_prefix] = relevant_df\n",
    "    "
   ]
  },
  {
   "cell_type": "code",
   "execution_count": null,
   "id": "927ac5c5",
   "metadata": {},
   "outputs": [],
   "source": []
  },
  {
   "cell_type": "code",
   "execution_count": 100,
   "id": "242d5c63",
   "metadata": {},
   "outputs": [
    {
     "name": "stdout",
     "output_type": "stream",
     "text": [
      "Data from:control_nm\n"
     ]
    },
    {
     "data": {
      "text/html": [
       "<div>\n",
       "<style scoped>\n",
       "    .dataframe tbody tr th:only-of-type {\n",
       "        vertical-align: middle;\n",
       "    }\n",
       "\n",
       "    .dataframe tbody tr th {\n",
       "        vertical-align: top;\n",
       "    }\n",
       "\n",
       "    .dataframe thead th {\n",
       "        text-align: right;\n",
       "    }\n",
       "</style>\n",
       "<table border=\"1\" class=\"dataframe\">\n",
       "  <thead>\n",
       "    <tr style=\"text-align: right;\">\n",
       "      <th></th>\n",
       "      <th>combined_score</th>\n",
       "      <th>reading</th>\n",
       "      <th>working_memory</th>\n",
       "    </tr>\n",
       "  </thead>\n",
       "  <tbody>\n",
       "    <tr>\n",
       "      <th>0</th>\n",
       "      <td>0.343200</td>\n",
       "      <td>76.19%</td>\n",
       "      <td>2.2200</td>\n",
       "    </tr>\n",
       "    <tr>\n",
       "      <th>1</th>\n",
       "      <td>0.284701</td>\n",
       "      <td>71.43%</td>\n",
       "      <td>2.5089</td>\n",
       "    </tr>\n",
       "    <tr>\n",
       "      <th>2</th>\n",
       "      <td>0.180071</td>\n",
       "      <td>71.43%</td>\n",
       "      <td>3.9667</td>\n",
       "    </tr>\n",
       "    <tr>\n",
       "      <th>3</th>\n",
       "      <td>0.226190</td>\n",
       "      <td>90.48%</td>\n",
       "      <td>4.0000</td>\n",
       "    </tr>\n",
       "  </tbody>\n",
       "</table>\n",
       "</div>"
      ],
      "text/plain": [
       "   combined_score reading  working_memory\n",
       "0        0.343200  76.19%          2.2200\n",
       "1        0.284701  71.43%          2.5089\n",
       "2        0.180071  71.43%          3.9667\n",
       "3        0.226190  90.48%          4.0000"
      ]
     },
     "metadata": {},
     "output_type": "display_data"
    },
    {
     "name": "stdout",
     "output_type": "stream",
     "text": [
      "Data from:wc\n"
     ]
    },
    {
     "data": {
      "text/html": [
       "<div>\n",
       "<style scoped>\n",
       "    .dataframe tbody tr th:only-of-type {\n",
       "        vertical-align: middle;\n",
       "    }\n",
       "\n",
       "    .dataframe tbody tr th {\n",
       "        vertical-align: top;\n",
       "    }\n",
       "\n",
       "    .dataframe thead th {\n",
       "        text-align: right;\n",
       "    }\n",
       "</style>\n",
       "<table border=\"1\" class=\"dataframe\">\n",
       "  <thead>\n",
       "    <tr style=\"text-align: right;\">\n",
       "      <th></th>\n",
       "      <th>combined_score</th>\n",
       "      <th>reading</th>\n",
       "      <th>working_memory</th>\n",
       "    </tr>\n",
       "  </thead>\n",
       "  <tbody>\n",
       "    <tr>\n",
       "      <th>0</th>\n",
       "      <td>0.244618</td>\n",
       "      <td>71.43%</td>\n",
       "      <td>2.9200</td>\n",
       "    </tr>\n",
       "    <tr>\n",
       "      <th>1</th>\n",
       "      <td>0.221828</td>\n",
       "      <td>71.43%</td>\n",
       "      <td>3.2200</td>\n",
       "    </tr>\n",
       "    <tr>\n",
       "      <th>2</th>\n",
       "      <td>0.263737</td>\n",
       "      <td>95.24%</td>\n",
       "      <td>3.6111</td>\n",
       "    </tr>\n",
       "    <tr>\n",
       "      <th>3</th>\n",
       "      <td>0.214448</td>\n",
       "      <td>61.90%</td>\n",
       "      <td>2.8867</td>\n",
       "    </tr>\n",
       "  </tbody>\n",
       "</table>\n",
       "</div>"
      ],
      "text/plain": [
       "   combined_score reading  working_memory\n",
       "0        0.244618  71.43%          2.9200\n",
       "1        0.221828  71.43%          3.2200\n",
       "2        0.263737  95.24%          3.6111\n",
       "3        0.214448  61.90%          2.8867"
      ]
     },
     "metadata": {},
     "output_type": "display_data"
    },
    {
     "name": "stdout",
     "output_type": "stream",
     "text": [
      "Data from:pop\n"
     ]
    },
    {
     "data": {
      "text/html": [
       "<div>\n",
       "<style scoped>\n",
       "    .dataframe tbody tr th:only-of-type {\n",
       "        vertical-align: middle;\n",
       "    }\n",
       "\n",
       "    .dataframe tbody tr th {\n",
       "        vertical-align: top;\n",
       "    }\n",
       "\n",
       "    .dataframe thead th {\n",
       "        text-align: right;\n",
       "    }\n",
       "</style>\n",
       "<table border=\"1\" class=\"dataframe\">\n",
       "  <thead>\n",
       "    <tr style=\"text-align: right;\">\n",
       "      <th></th>\n",
       "      <th>combined_score</th>\n",
       "      <th>reading</th>\n",
       "      <th>working_memory</th>\n",
       "    </tr>\n",
       "  </thead>\n",
       "  <tbody>\n",
       "    <tr>\n",
       "      <th>0</th>\n",
       "      <td>0.307675</td>\n",
       "      <td>80.95%</td>\n",
       "      <td>2.6311</td>\n",
       "    </tr>\n",
       "    <tr>\n",
       "      <th>1</th>\n",
       "      <td>0.269409</td>\n",
       "      <td>61.90%</td>\n",
       "      <td>2.2978</td>\n",
       "    </tr>\n",
       "    <tr>\n",
       "      <th>2</th>\n",
       "      <td>0.311919</td>\n",
       "      <td>95.24%</td>\n",
       "      <td>3.0533</td>\n",
       "    </tr>\n",
       "    <tr>\n",
       "      <th>3</th>\n",
       "      <td>0.223490</td>\n",
       "      <td>80.95%</td>\n",
       "      <td>3.6222</td>\n",
       "    </tr>\n",
       "    <tr>\n",
       "      <th>4</th>\n",
       "      <td>0.356011</td>\n",
       "      <td>100.00%</td>\n",
       "      <td>2.8089</td>\n",
       "    </tr>\n",
       "  </tbody>\n",
       "</table>\n",
       "</div>"
      ],
      "text/plain": [
       "   combined_score  reading  working_memory\n",
       "0        0.307675   80.95%          2.6311\n",
       "1        0.269409   61.90%          2.2978\n",
       "2        0.311919   95.24%          3.0533\n",
       "3        0.223490   80.95%          3.6222\n",
       "4        0.356011  100.00%          2.8089"
      ]
     },
     "metadata": {},
     "output_type": "display_data"
    },
    {
     "name": "stdout",
     "output_type": "stream",
     "text": [
      "Data from:ic\n"
     ]
    },
    {
     "data": {
      "text/html": [
       "<div>\n",
       "<style scoped>\n",
       "    .dataframe tbody tr th:only-of-type {\n",
       "        vertical-align: middle;\n",
       "    }\n",
       "\n",
       "    .dataframe tbody tr th {\n",
       "        vertical-align: top;\n",
       "    }\n",
       "\n",
       "    .dataframe thead th {\n",
       "        text-align: right;\n",
       "    }\n",
       "</style>\n",
       "<table border=\"1\" class=\"dataframe\">\n",
       "  <thead>\n",
       "    <tr style=\"text-align: right;\">\n",
       "      <th></th>\n",
       "      <th>combined_score</th>\n",
       "      <th>reading</th>\n",
       "      <th>working_memory</th>\n",
       "    </tr>\n",
       "  </thead>\n",
       "  <tbody>\n",
       "    <tr>\n",
       "      <th>0</th>\n",
       "      <td>0.270708</td>\n",
       "      <td>90.48%</td>\n",
       "      <td>3.3422</td>\n",
       "    </tr>\n",
       "    <tr>\n",
       "      <th>1</th>\n",
       "      <td>0.283822</td>\n",
       "      <td>85.71%</td>\n",
       "      <td>3.0200</td>\n",
       "    </tr>\n",
       "    <tr>\n",
       "      <th>2</th>\n",
       "      <td>0.262482</td>\n",
       "      <td>52.38%</td>\n",
       "      <td>1.9956</td>\n",
       "    </tr>\n",
       "    <tr>\n",
       "      <th>3</th>\n",
       "      <td>0.297404</td>\n",
       "      <td>90.48%</td>\n",
       "      <td>3.0422</td>\n",
       "    </tr>\n",
       "    <tr>\n",
       "      <th>4</th>\n",
       "      <td>0.236703</td>\n",
       "      <td>80.95%</td>\n",
       "      <td>3.4200</td>\n",
       "    </tr>\n",
       "  </tbody>\n",
       "</table>\n",
       "</div>"
      ],
      "text/plain": [
       "   combined_score reading  working_memory\n",
       "0        0.270708  90.48%          3.3422\n",
       "1        0.283822  85.71%          3.0200\n",
       "2        0.262482  52.38%          1.9956\n",
       "3        0.297404  90.48%          3.0422\n",
       "4        0.236703  80.95%          3.4200"
      ]
     },
     "metadata": {},
     "output_type": "display_data"
    },
    {
     "name": "stdout",
     "output_type": "stream",
     "text": [
      "Data from:rock\n"
     ]
    },
    {
     "data": {
      "text/html": [
       "<div>\n",
       "<style scoped>\n",
       "    .dataframe tbody tr th:only-of-type {\n",
       "        vertical-align: middle;\n",
       "    }\n",
       "\n",
       "    .dataframe tbody tr th {\n",
       "        vertical-align: top;\n",
       "    }\n",
       "\n",
       "    .dataframe thead th {\n",
       "        text-align: right;\n",
       "    }\n",
       "</style>\n",
       "<table border=\"1\" class=\"dataframe\">\n",
       "  <thead>\n",
       "    <tr style=\"text-align: right;\">\n",
       "      <th></th>\n",
       "      <th>combined_score</th>\n",
       "      <th>reading</th>\n",
       "      <th>working_memory</th>\n",
       "    </tr>\n",
       "  </thead>\n",
       "  <tbody>\n",
       "    <tr>\n",
       "      <th>0</th>\n",
       "      <td>0.513788</td>\n",
       "      <td>80.95%</td>\n",
       "      <td>1.5756</td>\n",
       "    </tr>\n",
       "    <tr>\n",
       "      <th>1</th>\n",
       "      <td>0.330688</td>\n",
       "      <td>47.62%</td>\n",
       "      <td>1.4400</td>\n",
       "    </tr>\n",
       "    <tr>\n",
       "      <th>2</th>\n",
       "      <td>0.331473</td>\n",
       "      <td>80.95%</td>\n",
       "      <td>2.4422</td>\n",
       "    </tr>\n",
       "    <tr>\n",
       "      <th>3</th>\n",
       "      <td>0.233234</td>\n",
       "      <td>76.19%</td>\n",
       "      <td>3.2667</td>\n",
       "    </tr>\n",
       "    <tr>\n",
       "      <th>4</th>\n",
       "      <td>0.329986</td>\n",
       "      <td>76.19%</td>\n",
       "      <td>2.3089</td>\n",
       "    </tr>\n",
       "  </tbody>\n",
       "</table>\n",
       "</div>"
      ],
      "text/plain": [
       "   combined_score reading  working_memory\n",
       "0        0.513788  80.95%          1.5756\n",
       "1        0.330688  47.62%          1.4400\n",
       "2        0.331473  80.95%          2.4422\n",
       "3        0.233234  76.19%          3.2667\n",
       "4        0.329986  76.19%          2.3089"
      ]
     },
     "metadata": {},
     "output_type": "display_data"
    },
    {
     "name": "stdout",
     "output_type": "stream",
     "text": [
      "Data from:jazz\n"
     ]
    },
    {
     "data": {
      "text/html": [
       "<div>\n",
       "<style scoped>\n",
       "    .dataframe tbody tr th:only-of-type {\n",
       "        vertical-align: middle;\n",
       "    }\n",
       "\n",
       "    .dataframe tbody tr th {\n",
       "        vertical-align: top;\n",
       "    }\n",
       "\n",
       "    .dataframe thead th {\n",
       "        text-align: right;\n",
       "    }\n",
       "</style>\n",
       "<table border=\"1\" class=\"dataframe\">\n",
       "  <thead>\n",
       "    <tr style=\"text-align: right;\">\n",
       "      <th></th>\n",
       "      <th>combined_score</th>\n",
       "      <th>reading</th>\n",
       "      <th>working_memory</th>\n",
       "    </tr>\n",
       "  </thead>\n",
       "  <tbody>\n",
       "    <tr>\n",
       "      <th>0</th>\n",
       "      <td>0.558495</td>\n",
       "      <td>90.48%</td>\n",
       "      <td>1.6200</td>\n",
       "    </tr>\n",
       "    <tr>\n",
       "      <th>1</th>\n",
       "      <td>0.379268</td>\n",
       "      <td>95.24%</td>\n",
       "      <td>2.5111</td>\n",
       "    </tr>\n",
       "    <tr>\n",
       "      <th>2</th>\n",
       "      <td>0.847137</td>\n",
       "      <td>80.95%</td>\n",
       "      <td>0.9556</td>\n",
       "    </tr>\n",
       "    <tr>\n",
       "      <th>3</th>\n",
       "      <td>0.255097</td>\n",
       "      <td>47.62%</td>\n",
       "      <td>1.8667</td>\n",
       "    </tr>\n",
       "  </tbody>\n",
       "</table>\n",
       "</div>"
      ],
      "text/plain": [
       "   combined_score reading  working_memory\n",
       "0        0.558495  90.48%          1.6200\n",
       "1        0.379268  95.24%          2.5111\n",
       "2        0.847137  80.95%          0.9556\n",
       "3        0.255097  47.62%          1.8667"
      ]
     },
     "metadata": {},
     "output_type": "display_data"
    },
    {
     "name": "stdout",
     "output_type": "stream",
     "text": [
      "dict_items([('control_nm',    combined_score reading  working_memory\n",
      "0        0.343200  76.19%          2.2200\n",
      "1        0.284701  71.43%          2.5089\n",
      "2        0.180071  71.43%          3.9667\n",
      "3        0.226190  90.48%          4.0000), ('wc',    combined_score reading  working_memory\n",
      "0        0.244618  71.43%          2.9200\n",
      "1        0.221828  71.43%          3.2200\n",
      "2        0.263737  95.24%          3.6111\n",
      "3        0.214448  61.90%          2.8867), ('pop',    combined_score  reading  working_memory\n",
      "0        0.307675   80.95%          2.6311\n",
      "1        0.269409   61.90%          2.2978\n",
      "2        0.311919   95.24%          3.0533\n",
      "3        0.223490   80.95%          3.6222\n",
      "4        0.356011  100.00%          2.8089), ('ic',    combined_score reading  working_memory\n",
      "0        0.270708  90.48%          3.3422\n",
      "1        0.283822  85.71%          3.0200\n",
      "2        0.262482  52.38%          1.9956\n",
      "3        0.297404  90.48%          3.0422\n",
      "4        0.236703  80.95%          3.4200), ('rock',    combined_score reading  working_memory\n",
      "0        0.513788  80.95%          1.5756\n",
      "1        0.330688  47.62%          1.4400\n",
      "2        0.331473  80.95%          2.4422\n",
      "3        0.233234  76.19%          3.2667\n",
      "4        0.329986  76.19%          2.3089), ('jazz',    combined_score reading  working_memory\n",
      "0        0.558495  90.48%          1.6200\n",
      "1        0.379268  95.24%          2.5111\n",
      "2        0.847137  80.95%          0.9556\n",
      "3        0.255097  47.62%          1.8667)])\n"
     ]
    }
   ],
   "source": [
    "# read data and print   \n",
    "for file in filename_list:\n",
    "    filename = file\n",
    "    readdata(filename, mydata)\n",
    "    \n",
    "    \n",
    "for k, v in mydata.items():\n",
    "    print(f'Data from:{k}')\n",
    "    display(v)\n",
    " \n",
    "print(mydata.items())"
   ]
  },
  {
   "cell_type": "code",
   "execution_count": null,
   "id": "5b34d611",
   "metadata": {},
   "outputs": [],
   "source": []
  },
  {
   "cell_type": "code",
   "execution_count": null,
   "id": "eb1c4c7b",
   "metadata": {},
   "outputs": [],
   "source": [
    "#Check normality for data sets\n",
    "combined_scores_list = [(k, v['combined_score']) for k, v in mydata.items()]\n",
    "print(combined_scores_list)\n",
    "\n",
    "for name, each_combined_score in combined_scores_list:\n",
    "    stats.probplot(each_combined_score, dist=\"norm\", plot=plt)\n",
    "    plt.title(\"Probability Plot - \" + name )\n",
    "    plt.show()"
   ]
  },
  {
   "cell_type": "code",
   "execution_count": null,
   "id": "254b8c57",
   "metadata": {},
   "outputs": [],
   "source": [
    "for k, v in mydata.items():\n",
    "    print(f'Data from:{k}')\n",
    "    "
   ]
  },
  {
   "cell_type": "code",
   "execution_count": null,
   "id": "7b3eeac4",
   "metadata": {},
   "outputs": [],
   "source": [
    "# plot the dataframe\n",
    "mydata['wc'].plot(y=[\"combined_score\",], kind=\"line\", figsize=(9, 8))\n",
    " \n",
    "# print bar graph\n",
    "plt.show()"
   ]
  },
  {
   "cell_type": "code",
   "execution_count": 94,
   "id": "2ee9d207",
   "metadata": {},
   "outputs": [
    {
     "name": "stdout",
     "output_type": "stream",
     "text": [
      "{'rock': 0.10192404154412645, 'jazz': 0.25695585904074764, 'wc': 0.022426561335969, 'control_nm': 0.070841866798823, 'pop': 0.04982338644363869, 'ic': 0.022953693343486563}\n",
      "Standard Dev. Min:  0.022426561335969 Standard Dev. Max:  0.25695585904074764 Standard Dev. Max/Min Ratio:  11.457657515627558\n"
     ]
    }
   ],
   "source": [
    "# Homogeneity of Variance: calculate ratio of the largest to the smallest sample standard deviation\n",
    "std = {}\n",
    "std['rock'] = mydata['rock']['combined_score'].std()\n",
    "std['jazz'] = mydata['jazz']['combined_score'].std()\n",
    "std['wc'] = mydata['wc']['combined_score'].std()\n",
    "std['control_nm'] = mydata['control_nm']['combined_score'].std()\n",
    "std['pop'] = mydata['pop']['combined_score'].std()\n",
    "std['ic'] = mydata['ic']['combined_score'].std()\n",
    "\n",
    "std_min = min(std.values())\n",
    "std_max = max(std.values())\n",
    "print(std)\n",
    "print(\"Standard Dev. Min: \", std_min, \"Standard Dev. Max: \", std_max, \"Standard Dev. Max/Min Ratio: \", std_max/std_min)\n",
    "#ratio = df.std().max / df.std().min\n",
    "#ratio"
   ]
  },
  {
   "cell_type": "code",
   "execution_count": 126,
   "id": "8e6a55d4",
   "metadata": {},
   "outputs": [
    {
     "ename": "KeyError",
     "evalue": "'jazz_data.csv'",
     "output_type": "error",
     "traceback": [
      "\u001b[0;31m---------------------------------------------------------------------------\u001b[0m",
      "\u001b[0;31mKeyError\u001b[0m                                  Traceback (most recent call last)",
      "Cell \u001b[0;32mIn[126], line 7\u001b[0m\n\u001b[1;32m      4\u001b[0m anova_table\u001b[38;5;241m.\u001b[39mset_index(\u001b[38;5;124m'\u001b[39m\u001b[38;5;124mSource of Variation\u001b[39m\u001b[38;5;124m'\u001b[39m, inplace \u001b[38;5;241m=\u001b[39m \u001b[38;5;28;01mTrue\u001b[39;00m)\n\u001b[1;32m      6\u001b[0m \u001b[38;5;66;03m# calculate SSTR and update anova table\u001b[39;00m\n\u001b[0;32m----> 7\u001b[0m mydata_df \u001b[38;5;241m=\u001b[39m \u001b[43mmydata\u001b[49m\u001b[43m[\u001b[49m\u001b[43mfilename\u001b[49m\u001b[43m]\u001b[49m\n\u001b[1;32m      8\u001b[0m \u001b[38;5;28mprint\u001b[39m(mydata_df)\n",
      "\u001b[0;31mKeyError\u001b[0m: 'jazz_data.csv'"
     ]
    }
   ],
   "source": [
    "# Create ANOVA backbone table\n",
    "data = [['Between Groups', '', '', '', '', '', ''], ['Within Groups', '', '', '', '', '', ''], ['Total', '', '', '', '', '', '']] \n",
    "anova_table = pd.DataFrame(data, columns = ['Source of Variation', 'SS', 'df', 'MS', 'F', 'P-value', 'F crit']) \n",
    "anova_table.set_index('Source of Variation', inplace = True)\n",
    "\n",
    "# calculate SSTR and update anova table\n",
    "#x_bar = sample_df['salary'].mean()\n",
    "#SSTR = sample_df.groupby('major').count() * (sample_df.groupby('major').mean() - x_bar)**2\n",
    "#anova_table['SS']['Between Groups'] = SSTR['salary'].sum()"
   ]
  },
  {
   "cell_type": "code",
   "execution_count": null,
   "id": "e709059e",
   "metadata": {},
   "outputs": [],
   "source": []
  }
 ],
 "metadata": {
  "kernelspec": {
   "display_name": "Python 3 (ipykernel)",
   "language": "python",
   "name": "python3"
  },
  "language_info": {
   "codemirror_mode": {
    "name": "ipython",
    "version": 3
   },
   "file_extension": ".py",
   "mimetype": "text/x-python",
   "name": "python",
   "nbconvert_exporter": "python",
   "pygments_lexer": "ipython3",
   "version": "3.10.9"
  }
 },
 "nbformat": 4,
 "nbformat_minor": 5
}
